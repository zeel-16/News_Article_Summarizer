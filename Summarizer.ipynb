{
 "cells": [
  {
   "cell_type": "code",
   "execution_count": null,
   "metadata": {},
   "outputs": [],
   "source": [
    "import streamlit as st\n",
    "from transformers import pipeline"
   ]
  },
  {
   "cell_type": "code",
   "execution_count": null,
   "metadata": {},
   "outputs": [],
   "source": [
    "@st.cache_resource\n",
    "def load_model():\n",
    "    summarizer = pipeline(\"summarization\")\n",
    "    return summarizer\n",
    "\n",
    "# Initialize the model\n",
    "model = load_model()"
   ]
  },
  {
   "cell_type": "code",
   "execution_count": null,
   "metadata": {},
   "outputs": [],
   "source": [
    "st.title(\"Text Summarizer\")\n",
    "text_input = st.text_area(\"Enter the text to summarize:\")\n",
    "\n",
    "if st.button(\"Summarize\"):\n",
    "    if text_input:\n",
    "        summary = model(text_input, max_length=150, min_length=30, do_sample=False)\n",
    "        st.subheader(\"Summary:\")\n",
    "        st.write(summary[0]['summary_text'])\n",
    "    else:\n",
    "        st.warning(\"Please enter some text to summarize.\")"
   ]
  }
 ],
 "metadata": {
  "kernelspec": {
   "display_name": "Python 3",
   "language": "python",
   "name": "python3"
  },
  "language_info": {
   "name": "python",
   "version": "3.8"
  }
 },
 "nbformat": 4,
 "nbformat_minor": 5
}
